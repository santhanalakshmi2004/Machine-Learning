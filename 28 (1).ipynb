{
 "cells": [
  {
   "cell_type": "markdown",
   "id": "3566e751-f50a-4cf8-9be5-65cfa54bbe9d",
   "metadata": {},
   "source": [
    "# Regression link :  https://github.com/TCodina/car-prices-app/blob/main/car-data/CarPrice_Assignment.csv"
   ]
  },
  {
   "cell_type": "markdown",
   "id": "c714acdb-3543-40ca-8c49-80080942dc21",
   "metadata": {},
   "source": [
    "# REGRESSION TASK"
   ]
  },
  {
   "cell_type": "code",
   "execution_count": 1,
   "id": "1ad14777-d769-4219-9b6e-2ab7726eff9d",
   "metadata": {},
   "outputs": [],
   "source": [
    "import pandas as pd\n",
    "import numpy as np\n",
    "from sklearn.model_selection import train_test_split\n",
    "from sklearn.linear_model import LinearRegression\n",
    "from sklearn.metrics import mean_squared_error, mean_absolute_error, r2_score\n",
    "from sklearn.preprocessing import StandardScaler, OneHotEncoder"
   ]
  },
  {
   "cell_type": "markdown",
   "id": "44faf1f4-6713-4104-92dd-c48375508e99",
   "metadata": {},
   "source": [
    "# Provide the data description."
   ]
  },
  {
   "cell_type": "code",
   "execution_count": 2,
   "id": "b0a4236c-fb44-49e7-8280-294bb4b63f3e",
   "metadata": {},
   "outputs": [
    {
     "name": "stdout",
     "output_type": "stream",
     "text": [
      "     car_ID  symboling                   CarName fueltype aspiration  \\\n",
      "0         1          3        alfa-romero giulia      gas        std   \n",
      "1         2          3       alfa-romero stelvio      gas        std   \n",
      "2         3          1  alfa-romero Quadrifoglio      gas        std   \n",
      "3         4          2               audi 100 ls      gas        std   \n",
      "4         5          2                audi 100ls      gas        std   \n",
      "..      ...        ...                       ...      ...        ...   \n",
      "200     201         -1           volvo 145e (sw)      gas        std   \n",
      "201     202         -1               volvo 144ea      gas      turbo   \n",
      "202     203         -1               volvo 244dl      gas        std   \n",
      "203     204         -1                 volvo 246   diesel      turbo   \n",
      "204     205         -1               volvo 264gl      gas      turbo   \n",
      "\n",
      "    doornumber      carbody drivewheel enginelocation  wheelbase  ...  \\\n",
      "0          two  convertible        rwd          front       88.6  ...   \n",
      "1          two  convertible        rwd          front       88.6  ...   \n",
      "2          two    hatchback        rwd          front       94.5  ...   \n",
      "3         four        sedan        fwd          front       99.8  ...   \n",
      "4         four        sedan        4wd          front       99.4  ...   \n",
      "..         ...          ...        ...            ...        ...  ...   \n",
      "200       four        sedan        rwd          front      109.1  ...   \n",
      "201       four        sedan        rwd          front      109.1  ...   \n",
      "202       four        sedan        rwd          front      109.1  ...   \n",
      "203       four        sedan        rwd          front      109.1  ...   \n",
      "204       four        sedan        rwd          front      109.1  ...   \n",
      "\n",
      "     enginesize  fuelsystem  boreratio  stroke compressionratio horsepower  \\\n",
      "0           130        mpfi       3.47    2.68              9.0        111   \n",
      "1           130        mpfi       3.47    2.68              9.0        111   \n",
      "2           152        mpfi       2.68    3.47              9.0        154   \n",
      "3           109        mpfi       3.19    3.40             10.0        102   \n",
      "4           136        mpfi       3.19    3.40              8.0        115   \n",
      "..          ...         ...        ...     ...              ...        ...   \n",
      "200         141        mpfi       3.78    3.15              9.5        114   \n",
      "201         141        mpfi       3.78    3.15              8.7        160   \n",
      "202         173        mpfi       3.58    2.87              8.8        134   \n",
      "203         145         idi       3.01    3.40             23.0        106   \n",
      "204         141        mpfi       3.78    3.15              9.5        114   \n",
      "\n",
      "     peakrpm citympg  highwaympg    price  \n",
      "0       5000      21          27  13495.0  \n",
      "1       5000      21          27  16500.0  \n",
      "2       5000      19          26  16500.0  \n",
      "3       5500      24          30  13950.0  \n",
      "4       5500      18          22  17450.0  \n",
      "..       ...     ...         ...      ...  \n",
      "200     5400      23          28  16845.0  \n",
      "201     5300      19          25  19045.0  \n",
      "202     5500      18          23  21485.0  \n",
      "203     4800      26          27  22470.0  \n",
      "204     5400      19          25  22625.0  \n",
      "\n",
      "[205 rows x 26 columns]\n",
      "(205, 26)\n",
      "Rows: 205\n",
      "Columns: 26\n",
      "Target Variable: price\n",
      "Feature Variables: ['car_ID', 'symboling', 'CarName', 'fueltype', 'aspiration', 'doornumber', 'carbody', 'drivewheel', 'enginelocation', 'wheelbase', 'carlength', 'carwidth', 'carheight', 'curbweight', 'enginetype', 'cylindernumber', 'enginesize', 'fuelsystem', 'boreratio', 'stroke', 'compressionratio', 'horsepower', 'peakrpm', 'citympg', 'highwaympg']\n",
      "Numerical Features: ['car_ID', 'symboling', 'wheelbase', 'carlength', 'carwidth', 'carheight', 'curbweight', 'enginesize', 'boreratio', 'stroke', 'compressionratio', 'horsepower', 'peakrpm', 'citympg', 'highwaympg']\n",
      "\n",
      "Missing Values:\n",
      " car_ID              0\n",
      "symboling           0\n",
      "CarName             0\n",
      "fueltype            0\n",
      "aspiration          0\n",
      "doornumber          0\n",
      "carbody             0\n",
      "drivewheel          0\n",
      "enginelocation      0\n",
      "wheelbase           0\n",
      "carlength           0\n",
      "carwidth            0\n",
      "carheight           0\n",
      "curbweight          0\n",
      "enginetype          0\n",
      "cylindernumber      0\n",
      "enginesize          0\n",
      "fuelsystem          0\n",
      "boreratio           0\n",
      "stroke              0\n",
      "compressionratio    0\n",
      "horsepower          0\n",
      "peakrpm             0\n",
      "citympg             0\n",
      "highwaympg          0\n",
      "price               0\n",
      "dtype: int64\n"
     ]
    }
   ],
   "source": [
    "#load dataset\n",
    "df = pd.read_csv(\"CarPrice_Assignment.csv\")\n",
    "print(df)\n",
    "print(df.shape)\n",
    "print(\"Rows:\", df.shape[0])\n",
    "print(\"Columns:\", df.shape[1])\n",
    "\n",
    "#finding target and numerical variable from dataset\n",
    "numerical_features = df.select_dtypes(include=['int64', 'float64']).columns.tolist()\n",
    "target_variable = df.columns[-1]\n",
    "numerical_features.remove(target_variable)\n",
    "\n",
    "print(\"Target Variable:\", target_variable)\n",
    "print(\"Feature Variables:\", list(df.columns.drop([target_variable])))\n",
    "print(\"Numerical Features:\", numerical_features)\n",
    "print(\"\\nMissing Values:\\n\", df.isnull().sum())"
   ]
  },
  {
   "cell_type": "markdown",
   "id": "42f3e9a7-df4b-4459-a610-4c4eee9cc93f",
   "metadata": {},
   "source": [
    "# Already there is no NaN values in dataset but I don’t want my pipeline to break if future datasets contain NaN values."
   ]
  },
  {
   "cell_type": "code",
   "execution_count": 3,
   "id": "3c13f450-dc7d-4b5c-b376-dfc23f6a44fa",
   "metadata": {},
   "outputs": [
    {
     "name": "stdout",
     "output_type": "stream",
     "text": [
      "<class 'pandas.core.frame.DataFrame'>\n",
      "RangeIndex: 205 entries, 0 to 204\n",
      "Data columns (total 19 columns):\n",
      " #   Column               Non-Null Count  Dtype  \n",
      "---  ------               --------------  -----  \n",
      " 0   enginesize           205 non-null    int64  \n",
      " 1   curbweight           205 non-null    int64  \n",
      " 2   carwidth             205 non-null    float64\n",
      " 3   carlength            205 non-null    float64\n",
      " 4   citympg              205 non-null    int64  \n",
      " 5   wheelbase            205 non-null    float64\n",
      " 6   carbody_hardtop      205 non-null    int64  \n",
      " 7   carbody_hatchback    205 non-null    int64  \n",
      " 8   carbody_sedan        205 non-null    int64  \n",
      " 9   carbody_wagon        205 non-null    int64  \n",
      " 10  drivewheel_fwd       205 non-null    int64  \n",
      " 11  drivewheel_rwd       205 non-null    int64  \n",
      " 12  enginelocation_rear  205 non-null    int64  \n",
      " 13  enginetype_dohcv     205 non-null    int64  \n",
      " 14  enginetype_l         205 non-null    int64  \n",
      " 15  enginetype_ohc       205 non-null    int64  \n",
      " 16  enginetype_ohcf      205 non-null    int64  \n",
      " 17  enginetype_ohcv      205 non-null    int64  \n",
      " 18  enginetype_rotor     205 non-null    int64  \n",
      "dtypes: float64(3), int64(16)\n",
      "memory usage: 30.6 KB\n",
      "Final dataset shape: (205, 19)\n",
      "Features ready for training ✅\n"
     ]
    }
   ],
   "source": [
    "best_numerical_features = ['enginesize', 'curbweight', 'carwidth', 'carlength', 'citympg', 'wheelbase']\n",
    "best_categorical_features = ['carbody', 'drivewheel', 'enginelocation', 'enginetype']\n",
    "\n",
    "# Handle missing values ONLY if they exist\n",
    "for col in best_numerical_features:\n",
    "    if df[col].isnull().sum() > 0:\n",
    "        df[col].fillna(df[col].median(), inplace=True)\n",
    "\n",
    "for col in best_categorical_features:\n",
    "    if df[col].isnull().sum() > 0:\n",
    "        df[col].fillna(df[col].mode()[0], inplace=True)\n",
    "\n",
    "# Encode categorical features (one-hot)\n",
    "df_encoded = pd.get_dummies(df[best_categorical_features], drop_first=True).astype(int)\n",
    "\n",
    "# Final dataset = selected numerical + encoded categorical\n",
    "final_df = pd.concat([df[best_numerical_features], df_encoded], axis=1)\n",
    "\n",
    "final_df.info()\n",
    "print(\"Final dataset shape:\", final_df.shape)\n",
    "print(\"Features ready for training ✅\")"
   ]
  },
  {
   "cell_type": "markdown",
   "id": "dea8c1b7-b7ea-480d-b24d-53b8fe5b66e7",
   "metadata": {},
   "source": [
    "# Implement the linear regression without using the built-in function available in sci-kit learn."
   ]
  },
  {
   "cell_type": "code",
   "execution_count": 4,
   "id": "8aa7c7a3-7520-47a5-8c34-42fa028b063b",
   "metadata": {},
   "outputs": [
    {
     "name": "stdout",
     "output_type": "stream",
     "text": [
      "Intercept: -69426.63212031871\n",
      "Coefficients: [ 6.39976285e+01  3.50571823e+00  1.02789261e+03 -1.31004941e+02\n",
      " -1.01725550e+02  2.76243522e+02 -4.06930386e+03 -4.46029696e+03\n",
      " -2.90328905e+03 -4.90494540e+03 -1.01809837e+03  3.11799701e+02\n",
      "  1.78727662e+04  3.43176719e+03 -5.16540994e+03  2.30486028e+01\n",
      " -1.32652732e+03 -1.95127123e+02  4.08066415e+03]\n",
      "\n",
      "--- Model Performance (Manual Linear Regression on Test Set) ---\n",
      "MSE : 17659353.058571376\n",
      "RMSE: 4202.303303971689\n",
      "MAE : 2722.5208878723774\n",
      "R²  : 0.7763053761159276\n"
     ]
    }
   ],
   "source": [
    "# X = final features (numerical + encoded categorical)\n",
    "X = final_df.values\n",
    "y = df[target_variable].values  # target\n",
    "\n",
    "# Splitting the data into training and testing sets\n",
    "X_train, X_test, y_train, y_test = train_test_split(X, y, test_size=0.2, random_state=42)\n",
    "\n",
    "# Adding an intercept of 1s to the NumPy feature matrix\n",
    "X_train_b = np.c_[np.ones((X_train.shape[0], 1)), X_train]\n",
    "X_test_b  = np.c_[np.ones((X_test.shape[0], 1)), X_test]\n",
    "\n",
    "# Computing the regression coefficients using the Normal Equation (pseudo-inverse)\n",
    "coefficients = np.linalg.pinv(X_train_b.T @ X_train_b) @ (X_train_b.T @ y_train)\n",
    "\n",
    "# Extracting the intercept and slopes separately\n",
    "intercept = coefficients[0]\n",
    "slope = coefficients[1:]\n",
    "\n",
    "# Predicting the target values for the test set using learned coefficients\n",
    "y_pred_manual = X_test_b @ coefficients\n",
    "\n",
    "# Printing model intercept and coefficients\n",
    "print(\"Intercept:\", intercept)\n",
    "print(\"Coefficients:\", slope)\n",
    "\n",
    "# Model Evaluation metrics\n",
    "mse = np.mean((y_test - y_pred_manual) ** 2)\n",
    "rmse = np.sqrt(mse)\n",
    "mae = np.mean(np.abs(y_test - y_pred_manual))\n",
    "r2 = 1 - (np.sum((y_test - y_pred_manual) ** 2) / np.sum((y_test - np.mean(y_test)) ** 2))\n",
    "\n",
    "print(\"\\n--- Model Performance (Manual Linear Regression on Test Set) ---\")\n",
    "print(\"MSE :\", mse)\n",
    "print(\"RMSE:\", rmse)\n",
    "print(\"MAE :\", mae)\n",
    "print(\"R²  :\", r2)"
   ]
  },
  {
   "cell_type": "markdown",
   "id": "8efbcac8-4e46-48bb-9bef-9bf1fa3f72ed",
   "metadata": {},
   "source": [
    "# Verify the output with the built-in function available in scikit-learn."
   ]
  },
  {
   "cell_type": "code",
   "execution_count": 5,
   "id": "ac02486b-70fb-473d-8f79-fbeffeb2ce22",
   "metadata": {},
   "outputs": [
    {
     "name": "stdout",
     "output_type": "stream",
     "text": [
      "Linear Regression Results:\n",
      "Intercept: -69426.63230505053\n",
      "Coefficients: [ 6.39976285e+01  3.50571822e+00  1.02789262e+03 -1.31004941e+02\n",
      " -1.01725550e+02  2.76243522e+02 -4.06930386e+03 -4.46029696e+03\n",
      " -2.90328905e+03 -4.90494540e+03 -1.01809838e+03  3.11799701e+02\n",
      "  1.78727662e+04  3.43176718e+03 -5.16540994e+03  2.30486005e+01\n",
      " -1.32652732e+03 -1.95127125e+02  4.08066415e+03]\n",
      "MSE: 17659353.06424187\n",
      "RMSE: 4202.303304646378\n",
      "MAE: 2722.520887940751\n",
      "R²: 0.7763053760440983\n"
     ]
    }
   ],
   "source": [
    "# Using LinearRegression for fitting linear model, best-fit line method estimates best fit line,the predict method applies learned model to test data.\n",
    "\n",
    "lr = LinearRegression()\n",
    "lr.fit(X_train, y_train)\n",
    "y_pred_sklearn = lr.predict(X_test)\n",
    "\n",
    "# Evaluation\n",
    "MSE  = mean_squared_error(y_test, y_pred_sklearn)\n",
    "RMSE = np.sqrt(MSE)  # Use MSE here\n",
    "MAE  = mean_absolute_error(y_test, y_pred_sklearn)\n",
    "R2   = r2_score(y_test, y_pred_sklearn)\n",
    "\n",
    "\n",
    "print(\"Linear Regression Results:\")\n",
    "print(\"Intercept:\", lr.intercept_)\n",
    "print(\"Coefficients:\", lr.coef_)\n",
    "print(\"MSE:\", MSE)\n",
    "print(\"RMSE:\", RMSE)\n",
    "print(\"MAE:\", MAE)\n",
    "print(\"R²:\", R2)"
   ]
  },
  {
   "cell_type": "markdown",
   "id": "996b474a-7171-4be3-9e64-c999f08fab26",
   "metadata": {},
   "source": [
    "# classification link :  https://www.kaggle.com/datasets/sumedh1507/bmw-car-sales-dataset"
   ]
  },
  {
   "cell_type": "markdown",
   "id": "5bfbb9be-897b-44c0-b1f9-759659815615",
   "metadata": {},
   "source": [
    "# CLASSIFICATION TASK"
   ]
  },
  {
   "cell_type": "code",
   "execution_count": 6,
   "id": "a96a1d19-c115-4b64-a8b1-bad6fd9d2067",
   "metadata": {},
   "outputs": [],
   "source": [
    "import pandas as pd\n",
    "import seaborn as sns\n",
    "import matplotlib.pyplot as plt\n",
    "from sklearn.preprocessing import LabelEncoder\n",
    "from sklearn.metrics import accuracy_score, classification_report, roc_auc_score, roc_curve, confusion_matrix\n",
    "from sklearn.linear_model import LogisticRegression\n",
    "from sklearn.model_selection import KFold, cross_val_score, cross_val_predict\n",
    "from sklearn.linear_model import LogisticRegression\n",
    "from sklearn.naive_bayes import GaussianNB\n",
    "from sklearn.metrics import classification_report"
   ]
  },
  {
   "cell_type": "markdown",
   "id": "57c710d2-cace-44b2-adef-2c5441581089",
   "metadata": {},
   "source": [
    "# Provide the data description."
   ]
  },
  {
   "cell_type": "code",
   "execution_count": 7,
   "id": "2233b049-522f-4ea5-ae18-bcb4eae5676b",
   "metadata": {
    "scrolled": true
   },
   "outputs": [
    {
     "name": "stdout",
     "output_type": "stream",
     "text": [
      "          Model  Year         Region   Color Fuel_Type Transmission  \\\n",
      "0      5 Series  2016           Asia     Red    Petrol       Manual   \n",
      "1            i8  2013  North America     Red    Hybrid    Automatic   \n",
      "2      5 Series  2022  North America    Blue    Petrol    Automatic   \n",
      "3            X3  2024    Middle East    Blue    Petrol    Automatic   \n",
      "4      7 Series  2020  South America   Black    Diesel       Manual   \n",
      "...         ...   ...            ...     ...       ...          ...   \n",
      "49995        i3  2014           Asia     Red    Hybrid       Manual   \n",
      "49996        i3  2023    Middle East  Silver  Electric       Manual   \n",
      "49997  5 Series  2010    Middle East     Red    Petrol    Automatic   \n",
      "49998        i3  2020           Asia   White  Electric    Automatic   \n",
      "49999        X1  2020  North America    Blue    Diesel       Manual   \n",
      "\n",
      "       Engine_Size_L  Mileage_KM  Price_USD  Sales_Volume Sales_Classification  \n",
      "0                3.5      151748      98740          8300                 High  \n",
      "1                1.6      121671      79219          3428                  Low  \n",
      "2                4.5       10991     113265          6994                  Low  \n",
      "3                1.7       27255      60971          4047                  Low  \n",
      "4                2.1      122131      49898          3080                  Low  \n",
      "...              ...         ...        ...           ...                  ...  \n",
      "49995            4.6      151030      42932          8182                 High  \n",
      "49996            4.2      147396      48714          9816                 High  \n",
      "49997            4.5      174939      46126          8280                 High  \n",
      "49998            3.8        3379      58566          9486                 High  \n",
      "49999            3.3      171003      77492          1764                  Low  \n",
      "\n",
      "[50000 rows x 11 columns]\n",
      "<class 'pandas.core.frame.DataFrame'>\n",
      "RangeIndex: 50000 entries, 0 to 49999\n",
      "Data columns (total 11 columns):\n",
      " #   Column                Non-Null Count  Dtype  \n",
      "---  ------                --------------  -----  \n",
      " 0   Model                 50000 non-null  object \n",
      " 1   Year                  50000 non-null  int64  \n",
      " 2   Region                50000 non-null  object \n",
      " 3   Color                 50000 non-null  object \n",
      " 4   Fuel_Type             50000 non-null  object \n",
      " 5   Transmission          50000 non-null  object \n",
      " 6   Engine_Size_L         50000 non-null  float64\n",
      " 7   Mileage_KM            50000 non-null  int64  \n",
      " 8   Price_USD             50000 non-null  int64  \n",
      " 9   Sales_Volume          50000 non-null  int64  \n",
      " 10  Sales_Classification  50000 non-null  object \n",
      "dtypes: float64(1), int64(4), object(6)\n",
      "memory usage: 4.2+ MB\n",
      "(50000, 11)\n",
      "Rows: 50000\n",
      "Columns: 11\n",
      "Target: Sales_Classification\n",
      "Numerical Features: ['Model', 'Year', 'Region', 'Color', 'Fuel_Type', 'Transmission', 'Engine_Size_L', 'Mileage_KM', 'Price_USD', 'Sales_Volume']\n",
      "\n",
      "Missing Values:\n",
      " Model                   0\n",
      "Year                    0\n",
      "Region                  0\n",
      "Color                   0\n",
      "Fuel_Type               0\n",
      "Transmission            0\n",
      "Engine_Size_L           0\n",
      "Mileage_KM              0\n",
      "Price_USD               0\n",
      "Sales_Volume            0\n",
      "Sales_Classification    0\n",
      "dtype: int64\n"
     ]
    }
   ],
   "source": [
    "df1 = pd.read_csv(\"BMW_Car_Sales_Classification.csv\")\n",
    "print(df1);df1.info()\n",
    "\n",
    "print(df1.shape)\n",
    "print(\"Rows:\", df1.shape[0])\n",
    "print(\"Columns:\", df1.shape[1])\n",
    "\n",
    "# Strip whitespace from column names\n",
    "df1.columns = df1.columns.str.strip()\n",
    "\n",
    "# Define features and target\n",
    "target = df1.columns[-1]  # last column\n",
    "features = df1.columns.drop(target)\n",
    "numerical_features = features.tolist()\n",
    "\n",
    "print(\"Target:\", target)\n",
    "print(\"Numerical Features:\", numerical_features)\n",
    "print(\"\\nMissing Values:\\n\", df1.isnull().sum())"
   ]
  },
  {
   "cell_type": "markdown",
   "id": "51e90551-a995-4385-9519-26db1c5175f4",
   "metadata": {},
   "source": [
    "# Implement Logistic regression and Naïve Bayes classification algorithm using scikit-learn."
   ]
  },
  {
   "cell_type": "code",
   "execution_count": 8,
   "id": "23abb3bf-ebec-4318-9c76-705736de6c10",
   "metadata": {},
   "outputs": [],
   "source": [
    "# Encode categorical variables\n",
    "categorical_cols = ['Model', 'Region', 'Color', 'Fuel_Type', 'Transmission']\n",
    "df_encoded = pd.get_dummies(df1, columns=categorical_cols, drop_first=True)\n",
    "\n",
    "# Encode target variable\n",
    "le = LabelEncoder()\n",
    "df_encoded['Sales_Classification'] = le.fit_transform(df_encoded['Sales_Classification'])  # High=1, Low=0"
   ]
  },
  {
   "cell_type": "code",
   "execution_count": 9,
   "id": "27a98a83-4955-425b-82ae-9d85b85a199e",
   "metadata": {},
   "outputs": [
    {
     "name": "stdout",
     "output_type": "stream",
     "text": [
      "       Year  Engine_Size_L  Mileage_KM  Price_USD  Sales_Volume  \\\n",
      "0      2016            3.5      151748      98740          8300   \n",
      "1      2013            1.6      121671      79219          3428   \n",
      "2      2022            4.5       10991     113265          6994   \n",
      "3      2024            1.7       27255      60971          4047   \n",
      "4      2020            2.1      122131      49898          3080   \n",
      "...     ...            ...         ...        ...           ...   \n",
      "49995  2014            4.6      151030      42932          8182   \n",
      "49996  2023            4.2      147396      48714          9816   \n",
      "49997  2010            4.5      174939      46126          8280   \n",
      "49998  2020            3.8        3379      58566          9486   \n",
      "49999  2020            3.3      171003      77492          1764   \n",
      "\n",
      "       Model_5 Series  Model_7 Series  Model_M3  Model_M5  Model_X1  ...  \\\n",
      "0                True           False     False     False     False  ...   \n",
      "1               False           False     False     False     False  ...   \n",
      "2                True           False     False     False     False  ...   \n",
      "3               False           False     False     False     False  ...   \n",
      "4               False            True     False     False     False  ...   \n",
      "...               ...             ...       ...       ...       ...  ...   \n",
      "49995           False           False     False     False     False  ...   \n",
      "49996           False           False     False     False     False  ...   \n",
      "49997            True           False     False     False     False  ...   \n",
      "49998           False           False     False     False     False  ...   \n",
      "49999           False           False     False     False      True  ...   \n",
      "\n",
      "       Region_South America  Color_Blue  Color_Grey  Color_Red  Color_Silver  \\\n",
      "0                     False       False       False       True         False   \n",
      "1                     False       False       False       True         False   \n",
      "2                     False        True       False      False         False   \n",
      "3                     False        True       False      False         False   \n",
      "4                      True       False       False      False         False   \n",
      "...                     ...         ...         ...        ...           ...   \n",
      "49995                 False       False       False       True         False   \n",
      "49996                 False       False       False      False          True   \n",
      "49997                 False       False       False       True         False   \n",
      "49998                 False       False       False      False         False   \n",
      "49999                 False        True       False      False         False   \n",
      "\n",
      "       Color_White  Fuel_Type_Electric  Fuel_Type_Hybrid  Fuel_Type_Petrol  \\\n",
      "0            False               False             False              True   \n",
      "1            False               False              True             False   \n",
      "2            False               False             False              True   \n",
      "3            False               False             False              True   \n",
      "4            False               False             False             False   \n",
      "...            ...                 ...               ...               ...   \n",
      "49995        False               False              True             False   \n",
      "49996        False                True             False             False   \n",
      "49997        False               False             False              True   \n",
      "49998         True                True             False             False   \n",
      "49999        False               False             False             False   \n",
      "\n",
      "       Transmission_Manual  \n",
      "0                     True  \n",
      "1                    False  \n",
      "2                    False  \n",
      "3                    False  \n",
      "4                     True  \n",
      "...                    ...  \n",
      "49995                 True  \n",
      "49996                 True  \n",
      "49997                False  \n",
      "49998                False  \n",
      "49999                 True  \n",
      "\n",
      "[50000 rows x 29 columns]\n",
      "0        0\n",
      "1        1\n",
      "2        1\n",
      "3        1\n",
      "4        1\n",
      "        ..\n",
      "49995    0\n",
      "49996    0\n",
      "49997    0\n",
      "49998    0\n",
      "49999    1\n",
      "Name: Sales_Classification, Length: 50000, dtype: int64\n"
     ]
    }
   ],
   "source": [
    "# Define features and target\n",
    "X1 = df_encoded.drop('Sales_Classification', axis=1)\n",
    "y1 = df_encoded['Sales_Classification']\n",
    "print(X1)\n",
    "print(y1)"
   ]
  },
  {
   "cell_type": "markdown",
   "id": "ec95cf54-865a-4629-bfc8-a3d8ef178947",
   "metadata": {},
   "source": [
    "# Implement Logistic regression and Naïve Bayes classification algorithm using scikit-learn.\n",
    "# Perform k-fold cross validation."
   ]
  },
  {
   "cell_type": "code",
   "execution_count": 10,
   "id": "668d7930-a21e-47d6-b39a-18e155fff1db",
   "metadata": {},
   "outputs": [
    {
     "name": "stdout",
     "output_type": "stream",
     "text": [
      "Logistic Regression Accuracy (5-fold CV): [0.9989 0.9985 0.9982 0.9983 0.9983]\n",
      "Naive Bayes Accuracy (5-fold CV): [0.9952 0.9955 0.9941 0.9956 0.9949]\n",
      "\n",
      "Logistic Regression CV Accuracy: Mean = 0.9984, Std = 0.0002\n",
      "Naïve Bayes CV Accuracy: Mean = 0.9951, Std = 0.0005\n",
      "[1 1 1 ... 1 0 1]\n",
      "[1 1 1 ... 1 0 1]\n"
     ]
    }
   ],
   "source": [
    "# Scale numerical features\n",
    "scaler = StandardScaler()\n",
    "numerical_cols = ['Year', 'Engine_Size_L', 'Mileage_KM', 'Price_USD', 'Sales_Volume']\n",
    "X1[numerical_cols] = scaler.fit_transform(X1[numerical_cols])\n",
    "\n",
    "# Split data into training and testing sets\n",
    "X_train, X_test, y_train, y_test = train_test_split(X1, y1, test_size=0.2, random_state=42)\n",
    "\n",
    "# Implement Models\n",
    "# Initialize models\n",
    "lr_model = LogisticRegression(random_state=42, max_iter=1000)\n",
    "nb_model = GaussianNB()\n",
    "\n",
    "kfold = KFold(n_splits=5, shuffle=True, random_state=42)\n",
    "\n",
    "# Fit models\n",
    "lr_model.fit(X_train, y_train)\n",
    "nb_model.fit(X_train, y_train)\n",
    "\n",
    "# Perform 5-fold cross-validation\n",
    "lr_cv_scores = cross_val_score(lr_model, X1, y1, cv=kfold, scoring='accuracy')\n",
    "nb_cv_scores = cross_val_score(nb_model, X1, y1, cv=kfold, scoring='accuracy')\n",
    "\n",
    "print(\"Logistic Regression Accuracy (5-fold CV):\", lr_cv_scores)\n",
    "print(\"Naive Bayes Accuracy (5-fold CV):\", nb_cv_scores)\n",
    "\n",
    "print(\"\\nLogistic Regression CV Accuracy: Mean = {:.4f}, Std = {:.4f}\".format(\n",
    "    lr_cv_scores.mean(), lr_cv_scores.std()))\n",
    "print(\"Naïve Bayes CV Accuracy: Mean = {:.4f}, Std = {:.4f}\".format(\n",
    "    nb_cv_scores.mean(), nb_cv_scores.std()))\n",
    "\n",
    "# Predict on test set\n",
    "lr_predictions = lr_model.predict(X_test)\n",
    "nb_predictions = nb_model.predict(X_test)\n",
    "\n",
    "print(lr_predictions)\n",
    "print(nb_predictions)"
   ]
  },
  {
   "cell_type": "markdown",
   "id": "8703dd5d-7946-4e8c-bda2-b5cbf73a79fd",
   "metadata": {},
   "source": [
    "# Evaluate the performance of the model using the standard objective metrics."
   ]
  },
  {
   "cell_type": "code",
   "execution_count": 11,
   "id": "3c2f0c0c-092e-4964-88ea-264832c8526e",
   "metadata": {},
   "outputs": [
    {
     "name": "stdout",
     "output_type": "stream",
     "text": [
      "\n",
      "Logistic Regression Performance:\n",
      "Accuracy: 0.9989\n",
      "Classification Report:\n",
      "              precision    recall  f1-score   support\n",
      "\n",
      "           0       1.00      1.00      1.00      3032\n",
      "           1       1.00      1.00      1.00      6968\n",
      "\n",
      "    accuracy                           1.00     10000\n",
      "   macro avg       1.00      1.00      1.00     10000\n",
      "weighted avg       1.00      1.00      1.00     10000\n",
      "\n",
      "ROC-AUC: 1.0000\n",
      "\n",
      "Naïve Bayes Performance:\n",
      "Accuracy: 0.9952\n",
      "Classification Report:\n",
      "              precision    recall  f1-score   support\n",
      "\n",
      "           0       0.99      0.99      0.99      3032\n",
      "           1       1.00      1.00      1.00      6968\n",
      "\n",
      "    accuracy                           1.00     10000\n",
      "   macro avg       0.99      0.99      0.99     10000\n",
      "weighted avg       1.00      1.00      1.00     10000\n",
      "\n",
      "ROC-AUC: 0.9999\n"
     ]
    }
   ],
   "source": [
    "# Compute metrics\n",
    "print(\"\\nLogistic Regression Performance:\")\n",
    "print(\"Accuracy: {:.4f}\".format(accuracy_score(y_test, lr_predictions)))\n",
    "print(\"Classification Report:\")\n",
    "print(classification_report(y_test, lr_predictions))\n",
    "lr_roc_auc = roc_auc_score(y_test, lr_model.predict_proba(X_test)[:, 1])\n",
    "print(\"ROC-AUC: {:.4f}\".format(lr_roc_auc))\n",
    "\n",
    "print(\"\\nNaïve Bayes Performance:\")\n",
    "print(\"Accuracy: {:.4f}\".format(accuracy_score(y_test, nb_predictions)))\n",
    "print(\"Classification Report:\")\n",
    "print(classification_report(y_test, nb_predictions))\n",
    "nb_roc_auc = roc_auc_score(y_test, nb_model.predict_proba(X_test)[:, 1])\n",
    "print(\"ROC-AUC: {:.4f}\".format(nb_roc_auc))"
   ]
  },
  {
   "cell_type": "code",
   "execution_count": 12,
   "id": "947581e6-8309-4a5b-a512-810fe0946d9c",
   "metadata": {},
   "outputs": [
    {
     "data": {
      "image/png": "[encoded data removed]",
      "text/plain": [
       "<Figure size 1200x500 with 4 Axes>"
      ]
     },
     "metadata": {},
     "output_type": "display_data"
    }
   ],
   "source": [
    "# Confusion matrices\n",
    "lr_cm = confusion_matrix(y_test, lr_predictions)\n",
    "nb_cm = confusion_matrix(y_test, nb_predictions)\n",
    "\n",
    "# Plot confusion matrices\n",
    "plt.figure(figsize=(12, 5))\n",
    "\n",
    "plt.subplot(1, 2, 1)\n",
    "sns.heatmap(lr_cm, annot=True, fmt='d', cmap='Blues')\n",
    "plt.title('Logistic Regression Confusion Matrix')\n",
    "plt.xlabel('Predicted')\n",
    "plt.ylabel('Actual')\n",
    "\n",
    "plt.subplot(1, 2, 2)\n",
    "sns.heatmap(nb_cm, annot=True, fmt='d', cmap='Blues')\n",
    "plt.title('Naïve Bayes Confusion Matrix')\n",
    "plt.xlabel('Predicted')\n",
    "plt.ylabel('Actual')\n",
    "\n",
    "plt.tight_layout()\n",
    "plt.show()"
   ]
  },
  {
   "cell_type": "markdown",
   "id": "a97550c8-9c5e-4cce-b350-b7894b4a2ab2",
   "metadata": {},
   "source": [
    "# Compare the performance of the implemented models."
   ]
  },
  {
   "cell_type": "code",
   "execution_count": 13,
   "id": "5f756e66-f11f-4748-8f78-96a3d804fc1f",
   "metadata": {},
   "outputs": [
    {
     "name": "stdout",
     "output_type": "stream",
     "text": [
      "\n",
      "Model Comparison:\n",
      "Logistic Regression: Accuracy = 0.9989, ROC-AUC = 1.0000, CV Mean = 0.9984\n",
      "Naïve Bayes: Accuracy = 0.9952, ROC-AUC = 0.9999, CV Mean = 0.9951\n",
      "\n",
      "Logistic Regression outperforms Naïve Bayes based on ROC-AUC.\n"
     ]
    }
   ],
   "source": [
    "print(\"\\nModel Comparison:\")\n",
    "print(\"Logistic Regression: Accuracy = {:.4f}, ROC-AUC = {:.4f}, CV Mean = {:.4f}\".format(\n",
    "    accuracy_score(y_test, lr_predictions), lr_roc_auc, lr_cv_scores.mean()))\n",
    "print(\"Naïve Bayes: Accuracy = {:.4f}, ROC-AUC = {:.4f}, CV Mean = {:.4f}\".format(\n",
    "    accuracy_score(y_test, nb_predictions), nb_roc_auc, nb_cv_scores.mean()))\n",
    "\n",
    "# Discuss which model performs better based on metrics\n",
    "if lr_roc_auc > nb_roc_auc:\n",
    "    print(\"\\nLogistic Regression outperforms Naïve Bayes based on ROC-AUC.\")\n",
    "else:\n",
    "    print(\"Naïve Bayes outperforms Logistic Regression based on ROC-AUC.\")"
   ]
  }
 ],
 "metadata": {
  "kernelspec": {
   "display_name": "Python 3 (ipykernel)",
   "language": "python",
   "name": "python3"
  },
  "language_info": {
   "codemirror_mode": {
    "name": "ipython",
    "version": 3
   },
   "file_extension": ".py",
   "mimetype": "text/x-python",
   "name": "python",
   "nbconvert_exporter": "python",
   "pygments_lexer": "ipython3",
   "version": "3.13.5"
  }
 },
 "nbformat": 4,
 "nbformat_minor": 5
}
